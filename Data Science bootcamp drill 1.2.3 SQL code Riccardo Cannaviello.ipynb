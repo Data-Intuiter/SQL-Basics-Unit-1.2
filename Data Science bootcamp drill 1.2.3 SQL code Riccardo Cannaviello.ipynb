{
 "cells": [
  {
   "cell_type": "markdown",
   "metadata": {},
   "source": [
    "# SQL Basics - Thinkful data science bootcamp - unit 1.2.3 drills"
   ]
  },
  {
   "cell_type": "markdown",
   "metadata": {},
   "source": [
    "## Riccardo Cannaviello"
   ]
  },
  {
   "cell_type": "markdown",
   "metadata": {},
   "source": [
    "#### SQL query 1: The IDs and durations for all trips of duration greater than 500, ordered by duration."
   ]
  },
  {
   "cell_type": "code",
   "execution_count": null,
   "metadata": {},
   "outputs": [],
   "source": [
    "SELECT\n",
    "    trip_id,\n",
    "    start_date\n",
    "FROM\n",
    "    trips\n",
    "WHERE\n",
    "    duration > 500\n",
    "ORDER BY duration DESC;"
   ]
  },
  {
   "cell_type": "markdown",
   "metadata": {},
   "source": [
    " "
   ]
  },
  {
   "cell_type": "markdown",
   "metadata": {},
   "source": [
    "#### SQL query 2: Every column of the stations table for station id 84."
   ]
  },
  {
   "cell_type": "code",
   "execution_count": null,
   "metadata": {},
   "outputs": [],
   "source": [
    "SELECT\n",
    "    *\n",
    "FROM\n",
    "    stations\n",
    "WHERE\n",
    "    station_id = 84;"
   ]
  },
  {
   "cell_type": "markdown",
   "metadata": {},
   "source": [
    "  "
   ]
  },
  {
   "cell_type": "markdown",
   "metadata": {},
   "source": [
    "#### SQL query 3: The min temperatures of all the occurrences of rain in zip 94301"
   ]
  },
  {
   "cell_type": "code",
   "execution_count": null,
   "metadata": {},
   "outputs": [],
   "source": [
    "SELECT\n",
    "    mintemperaturef,\n",
    "    events,\n",
    "    zip\n",
    "FROM\n",
    "    weather\n",
    "WHERE\n",
    "    zip = 94301 AND\n",
    "    events LIKE 'Rain';"
   ]
  }
 ],
 "metadata": {
  "kernelspec": {
   "display_name": "Python 3",
   "language": "python",
   "name": "python3"
  },
  "language_info": {
   "codemirror_mode": {
    "name": "ipython",
    "version": 3
   },
   "file_extension": ".py",
   "mimetype": "text/x-python",
   "name": "python",
   "nbconvert_exporter": "python",
   "pygments_lexer": "ipython3",
   "version": "3.7.2"
  }
 },
 "nbformat": 4,
 "nbformat_minor": 2
}
